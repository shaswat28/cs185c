{
 "cells": [
  {
   "cell_type": "markdown",
   "id": "ae587e5d-ad7d-42ad-9ca7-d064e2ef5f2f",
   "metadata": {},
   "source": [
    "# Homework 3: Visualizing Data with Movies\n",
    "\n",
    "Name: Shaswat Sharma\n",
    "\n",
    "Date: 2/10/25\n",
    "\n",
    "#### Overview\n",
    "In this homework, you'll create a movie visualization of a model parameter such as temperature, salinity, velocity, or any other field which may be of interest to you. \n",
    "\n",
    "As an example, I've provided a movie of circulation in the Equatorial Pacific from the NASA ECCO Version 5 State Estimate. For the purposes of this visualization, I subsetted the Equatorial Pacific is the region between 155-75$^{\\circ}$W and $\\pm$20$^{\\circ}$N.\n",
    "\n",
    "#### Import Modules\n",
    "Import the modules required to access data from netCDF files, plot it, and stitch panels together into a movie:"
   ]
  },
  {
   "cell_type": "code",
   "execution_count": 78,
   "id": "252facb6-dc40-472b-a94a-2567f0ade2cd",
   "metadata": {},
   "outputs": [],
   "source": [
    "# import modules here\n",
    "import os\n",
    "import numpy as np\n",
    "import matplotlib.pyplot as plt\n",
    "import netCDF4 as nc4\n",
    "import moviepy.video.io.ImageSequenceClip\n",
    "import xarray as xr\n"
   ]
  },
  {
   "cell_type": "markdown",
   "id": "b25f3da4-1768-4178-9604-0a6888e75ed7",
   "metadata": {},
   "source": [
    "## Part 1: Download Data\n",
    "To begin this exercise, download all of the available data for your variable of interest over the timespan of interest.\n",
    "\n",
    "For the example provided, I've used daily sea surface temperature data for a given year (2015) from the ECCO Version 5 Alpha output [HERE](https://ecco.jpl.nasa.gov/drive/files/Version5/Alpha/latlon_daily/SST.nc).\n",
    "\n",
    "To obtain your data, use the [Downloading ECCO Data](https://github.com/ProfMikeWood/ocean_modeling_book/blob/main/tools/Downloading%20ECCO%20Data.ipynb) notebook provided with the course notes. Be sure to edit the fields to obtain the correct data."
   ]
  },
  {
   "cell_type": "code",
   "execution_count": null,
   "id": "9c8cd8aa-0988-4339-9352-f07de5e65af8",
   "metadata": {},
   "outputs": [],
   "source": [
    "# define the path to the data folder\n",
    "data_folder = '/Users/shaswatsharma/CS 185C/Data/Homework 3'\n"
   ]
  },
  {
   "cell_type": "markdown",
   "id": "8926c19c-ad19-419b-b2d9-6f7a1f7f8989",
   "metadata": {},
   "source": [
    "## Part 2: Create a Single Plot of Sea Surface Temperature\n",
    "Before making a movie, its useful to fine tune a single plot to get the details right. Once you've got your plot lookin' good, you can loop through all of the data to generate the panels of your movie.\n",
    "\n",
    "Here, make a plot of one variable field. \n",
    "\n",
    "Begin by reading in the longitude, latitude, and SST fields from the netCDF file:"
   ]
  },
  {
   "cell_type": "code",
   "execution_count": 82,
   "id": "460707c9-cbc9-45bd-9c5d-401e2dd9855c",
   "metadata": {
    "scrolled": true
   },
   "outputs": [],
   "source": [
    "# read in the data\n",
    "# make a path to a sea ice file\n",
    "sst_file = os.path.join(data_folder,'Version5','Alpha',\n",
    "                          'latlon_daily','SST','SST_20150101.nc')\n",
    "\n",
    "ds_sst = xr.open_dataset(sst_file, decode_times=False)\n",
    "longitude = np.array(ds_sst['LONGITUDE_T'][:])\n",
    "latitude = np.array(ds_sst['LATITUDE_T'][:])\n",
    "SST = np.array(ds['SST'][:])\n",
    "ds.close()\n",
    "\n"
   ]
  },
  {
   "cell_type": "markdown",
   "id": "246d635f-ccd8-4ee8-af9e-3e06739117a8",
   "metadata": {},
   "source": [
    "Next, find the locations of the longitude and latitude bounds within the global grid for your region of interest:"
   ]
  },
  {
   "cell_type": "code",
   "execution_count": 88,
   "id": "68efce84-b214-4882-8c10-0382c9e31171",
   "metadata": {},
   "outputs": [
    {
     "data": {
      "text/plain": [
       "(279, 439, 99, 419)"
      ]
     },
     "execution_count": 88,
     "metadata": {},
     "output_type": "execute_result"
    }
   ],
   "source": [
    "\n",
    "# define the longitude/latitude bounds\n",
    "min_lon = -155\n",
    "max_lon = -75\n",
    "min_lat = -20\n",
    "max_lat = 20\n",
    "\n",
    "# compute the min/max row/col in the data grid\n",
    "min_col = np.argmin(np.abs(longitude - min_lon))  # closest longitude to -155\n",
    "max_col = np.argmin(np.abs(longitude - max_lon))  # closest longitude to -75\n",
    "min_row = np.argmin(np.abs(latitude - min_lat))  # closest latitude to -20\n",
    "max_row = np.argmin(np.abs(latitude - max_lat))  # closest latitude to 20\n",
    "min_row, max_row, min_col, max_col"
   ]
  },
  {
   "cell_type": "markdown",
   "id": "35f9b5f8-b2be-44b0-a42b-c7d86f44b3f0",
   "metadata": {},
   "source": [
    "Use the row and column bounds to subset the longitude, latitude, and your variable:"
   ]
  },
  {
   "cell_type": "code",
   "execution_count": 83,
   "id": "e4a7b948-6d09-4b04-acda-6cad49806179",
   "metadata": {},
   "outputs": [],
   "source": [
    "# subset the data\n",
    "subset_longitude = longitude[min_col:max_col]\n",
    "subset_latitude = latitude[min_row:max_row]\n",
    "subset_SST = SST[min_row:max_row, min_col:max_col]"
   ]
  },
  {
   "cell_type": "markdown",
   "id": "784c7eea-6a82-4602-89b8-34467bde564b",
   "metadata": {},
   "source": [
    "Finally, make a plot with your subsetted data. For the plot specification, you can use any colormap, data range, and format as you like.\n",
    "\n",
    "For my example, I find that the temperature plot looks nice with a figure size of (8,4), a turbo colormap, and a data range of 20-31. However, you are encouraged to format your plot to your tastes."
   ]
  },
  {
   "cell_type": "code",
   "execution_count": 86,
   "id": "da628f1d-44de-45ec-9687-8d96927b3335",
   "metadata": {},
   "outputs": [
    {
     "ename": "TypeError",
     "evalue": "Dimensions of C (0, 320, 1440) should be one smaller than X(320) and Y(160) while using shading='flat' see help(pcolormesh)",
     "output_type": "error",
     "traceback": [
      "\u001b[0;31m---------------------------------------------------------------------------\u001b[0m",
      "\u001b[0;31mTypeError\u001b[0m                                 Traceback (most recent call last)",
      "Cell \u001b[0;32mIn[86], line 4\u001b[0m\n\u001b[1;32m      1\u001b[0m fig \u001b[38;5;241m=\u001b[39m plt\u001b[38;5;241m.\u001b[39mfigure(figsize\u001b[38;5;241m=\u001b[39m(\u001b[38;5;241m8\u001b[39m, \u001b[38;5;241m4\u001b[39m))\n\u001b[1;32m      3\u001b[0m \u001b[38;5;66;03m# Use the subsetted longitude, latitude, and SST for plotting\u001b[39;00m\n\u001b[0;32m----> 4\u001b[0m plt\u001b[38;5;241m.\u001b[39mpcolormesh(subset_longitude, subset_latitude, subset_SST, vmin\u001b[38;5;241m=\u001b[39m\u001b[38;5;241m20\u001b[39m, vmax\u001b[38;5;241m=\u001b[39m\u001b[38;5;241m31\u001b[39m, cmap\u001b[38;5;241m=\u001b[39m\u001b[38;5;124m'\u001b[39m\u001b[38;5;124mturbo\u001b[39m\u001b[38;5;124m'\u001b[39m, shading \u001b[38;5;241m=\u001b[39m \u001b[38;5;124m'\u001b[39m\u001b[38;5;124mauto\u001b[39m\u001b[38;5;124m'\u001b[39m)\n\u001b[1;32m      5\u001b[0m plt\u001b[38;5;241m.\u001b[39mcolorbar(orientation\u001b[38;5;241m=\u001b[39m\u001b[38;5;124m'\u001b[39m\u001b[38;5;124mhorizontal\u001b[39m\u001b[38;5;124m'\u001b[39m)\n\u001b[1;32m      7\u001b[0m \u001b[38;5;66;03m# Format the axes\u001b[39;00m\n",
      "File \u001b[0;32m/opt/miniconda3/envs/cs185c/lib/python3.11/site-packages/matplotlib/pyplot.py:3731\u001b[0m, in \u001b[0;36mpcolormesh\u001b[0;34m(alpha, norm, cmap, vmin, vmax, colorizer, shading, antialiased, data, *args, **kwargs)\u001b[0m\n\u001b[1;32m   3717\u001b[0m \u001b[38;5;129m@_copy_docstring_and_deprecators\u001b[39m(Axes\u001b[38;5;241m.\u001b[39mpcolormesh)\n\u001b[1;32m   3718\u001b[0m \u001b[38;5;28;01mdef\u001b[39;00m \u001b[38;5;21mpcolormesh\u001b[39m(\n\u001b[1;32m   3719\u001b[0m     \u001b[38;5;241m*\u001b[39margs: ArrayLike,\n\u001b[0;32m   (...)\u001b[0m\n\u001b[1;32m   3729\u001b[0m     \u001b[38;5;241m*\u001b[39m\u001b[38;5;241m*\u001b[39mkwargs,\n\u001b[1;32m   3730\u001b[0m ) \u001b[38;5;241m-\u001b[39m\u001b[38;5;241m>\u001b[39m QuadMesh:\n\u001b[0;32m-> 3731\u001b[0m     __ret \u001b[38;5;241m=\u001b[39m gca()\u001b[38;5;241m.\u001b[39mpcolormesh(\n\u001b[1;32m   3732\u001b[0m         \u001b[38;5;241m*\u001b[39margs,\n\u001b[1;32m   3733\u001b[0m         alpha\u001b[38;5;241m=\u001b[39malpha,\n\u001b[1;32m   3734\u001b[0m         norm\u001b[38;5;241m=\u001b[39mnorm,\n\u001b[1;32m   3735\u001b[0m         cmap\u001b[38;5;241m=\u001b[39mcmap,\n\u001b[1;32m   3736\u001b[0m         vmin\u001b[38;5;241m=\u001b[39mvmin,\n\u001b[1;32m   3737\u001b[0m         vmax\u001b[38;5;241m=\u001b[39mvmax,\n\u001b[1;32m   3738\u001b[0m         colorizer\u001b[38;5;241m=\u001b[39mcolorizer,\n\u001b[1;32m   3739\u001b[0m         shading\u001b[38;5;241m=\u001b[39mshading,\n\u001b[1;32m   3740\u001b[0m         antialiased\u001b[38;5;241m=\u001b[39mantialiased,\n\u001b[1;32m   3741\u001b[0m         \u001b[38;5;241m*\u001b[39m\u001b[38;5;241m*\u001b[39m({\u001b[38;5;124m\"\u001b[39m\u001b[38;5;124mdata\u001b[39m\u001b[38;5;124m\"\u001b[39m: data} \u001b[38;5;28;01mif\u001b[39;00m data \u001b[38;5;129;01mis\u001b[39;00m \u001b[38;5;129;01mnot\u001b[39;00m \u001b[38;5;28;01mNone\u001b[39;00m \u001b[38;5;28;01melse\u001b[39;00m {}),\n\u001b[1;32m   3742\u001b[0m         \u001b[38;5;241m*\u001b[39m\u001b[38;5;241m*\u001b[39mkwargs,\n\u001b[1;32m   3743\u001b[0m     )\n\u001b[1;32m   3744\u001b[0m     sci(__ret)\n\u001b[1;32m   3745\u001b[0m     \u001b[38;5;28;01mreturn\u001b[39;00m __ret\n",
      "File \u001b[0;32m/opt/miniconda3/envs/cs185c/lib/python3.11/site-packages/matplotlib/__init__.py:1521\u001b[0m, in \u001b[0;36m_preprocess_data.<locals>.inner\u001b[0;34m(ax, data, *args, **kwargs)\u001b[0m\n\u001b[1;32m   1518\u001b[0m \u001b[38;5;129m@functools\u001b[39m\u001b[38;5;241m.\u001b[39mwraps(func)\n\u001b[1;32m   1519\u001b[0m \u001b[38;5;28;01mdef\u001b[39;00m \u001b[38;5;21minner\u001b[39m(ax, \u001b[38;5;241m*\u001b[39margs, data\u001b[38;5;241m=\u001b[39m\u001b[38;5;28;01mNone\u001b[39;00m, \u001b[38;5;241m*\u001b[39m\u001b[38;5;241m*\u001b[39mkwargs):\n\u001b[1;32m   1520\u001b[0m     \u001b[38;5;28;01mif\u001b[39;00m data \u001b[38;5;129;01mis\u001b[39;00m \u001b[38;5;28;01mNone\u001b[39;00m:\n\u001b[0;32m-> 1521\u001b[0m         \u001b[38;5;28;01mreturn\u001b[39;00m func(\n\u001b[1;32m   1522\u001b[0m             ax,\n\u001b[1;32m   1523\u001b[0m             \u001b[38;5;241m*\u001b[39m\u001b[38;5;28mmap\u001b[39m(cbook\u001b[38;5;241m.\u001b[39msanitize_sequence, args),\n\u001b[1;32m   1524\u001b[0m             \u001b[38;5;241m*\u001b[39m\u001b[38;5;241m*\u001b[39m{k: cbook\u001b[38;5;241m.\u001b[39msanitize_sequence(v) \u001b[38;5;28;01mfor\u001b[39;00m k, v \u001b[38;5;129;01min\u001b[39;00m kwargs\u001b[38;5;241m.\u001b[39mitems()})\n\u001b[1;32m   1526\u001b[0m     bound \u001b[38;5;241m=\u001b[39m new_sig\u001b[38;5;241m.\u001b[39mbind(ax, \u001b[38;5;241m*\u001b[39margs, \u001b[38;5;241m*\u001b[39m\u001b[38;5;241m*\u001b[39mkwargs)\n\u001b[1;32m   1527\u001b[0m     auto_label \u001b[38;5;241m=\u001b[39m (bound\u001b[38;5;241m.\u001b[39marguments\u001b[38;5;241m.\u001b[39mget(label_namer)\n\u001b[1;32m   1528\u001b[0m                   \u001b[38;5;129;01mor\u001b[39;00m bound\u001b[38;5;241m.\u001b[39mkwargs\u001b[38;5;241m.\u001b[39mget(label_namer))\n",
      "File \u001b[0;32m/opt/miniconda3/envs/cs185c/lib/python3.11/site-packages/matplotlib/axes/_axes.py:6491\u001b[0m, in \u001b[0;36mAxes.pcolormesh\u001b[0;34m(self, alpha, norm, cmap, vmin, vmax, colorizer, shading, antialiased, *args, **kwargs)\u001b[0m\n\u001b[1;32m   6488\u001b[0m shading \u001b[38;5;241m=\u001b[39m shading\u001b[38;5;241m.\u001b[39mlower()\n\u001b[1;32m   6489\u001b[0m kwargs\u001b[38;5;241m.\u001b[39msetdefault(\u001b[38;5;124m'\u001b[39m\u001b[38;5;124medgecolors\u001b[39m\u001b[38;5;124m'\u001b[39m, \u001b[38;5;124m'\u001b[39m\u001b[38;5;124mnone\u001b[39m\u001b[38;5;124m'\u001b[39m)\n\u001b[0;32m-> 6491\u001b[0m X, Y, C, shading \u001b[38;5;241m=\u001b[39m \u001b[38;5;28mself\u001b[39m\u001b[38;5;241m.\u001b[39m_pcolorargs(\u001b[38;5;124m'\u001b[39m\u001b[38;5;124mpcolormesh\u001b[39m\u001b[38;5;124m'\u001b[39m, \u001b[38;5;241m*\u001b[39margs,\n\u001b[1;32m   6492\u001b[0m                                     shading\u001b[38;5;241m=\u001b[39mshading, kwargs\u001b[38;5;241m=\u001b[39mkwargs)\n\u001b[1;32m   6493\u001b[0m coords \u001b[38;5;241m=\u001b[39m np\u001b[38;5;241m.\u001b[39mstack([X, Y], axis\u001b[38;5;241m=\u001b[39m\u001b[38;5;241m-\u001b[39m\u001b[38;5;241m1\u001b[39m)\n\u001b[1;32m   6495\u001b[0m kwargs\u001b[38;5;241m.\u001b[39msetdefault(\u001b[38;5;124m'\u001b[39m\u001b[38;5;124msnap\u001b[39m\u001b[38;5;124m'\u001b[39m, mpl\u001b[38;5;241m.\u001b[39mrcParams[\u001b[38;5;124m'\u001b[39m\u001b[38;5;124mpcolormesh.snap\u001b[39m\u001b[38;5;124m'\u001b[39m])\n",
      "File \u001b[0;32m/opt/miniconda3/envs/cs185c/lib/python3.11/site-packages/matplotlib/axes/_axes.py:6023\u001b[0m, in \u001b[0;36mAxes._pcolorargs\u001b[0;34m(self, funcname, shading, *args, **kwargs)\u001b[0m\n\u001b[1;32m   6021\u001b[0m \u001b[38;5;28;01mif\u001b[39;00m shading \u001b[38;5;241m==\u001b[39m \u001b[38;5;124m'\u001b[39m\u001b[38;5;124mflat\u001b[39m\u001b[38;5;124m'\u001b[39m:\n\u001b[1;32m   6022\u001b[0m     \u001b[38;5;28;01mif\u001b[39;00m (Nx, Ny) \u001b[38;5;241m!=\u001b[39m (ncols \u001b[38;5;241m+\u001b[39m \u001b[38;5;241m1\u001b[39m, nrows \u001b[38;5;241m+\u001b[39m \u001b[38;5;241m1\u001b[39m):\n\u001b[0;32m-> 6023\u001b[0m         \u001b[38;5;28;01mraise\u001b[39;00m \u001b[38;5;167;01mTypeError\u001b[39;00m(\u001b[38;5;124mf\u001b[39m\u001b[38;5;124m\"\u001b[39m\u001b[38;5;124mDimensions of C \u001b[39m\u001b[38;5;132;01m{\u001b[39;00mC\u001b[38;5;241m.\u001b[39mshape\u001b[38;5;132;01m}\u001b[39;00m\u001b[38;5;124m should\u001b[39m\u001b[38;5;124m\"\u001b[39m\n\u001b[1;32m   6024\u001b[0m                         \u001b[38;5;124mf\u001b[39m\u001b[38;5;124m\"\u001b[39m\u001b[38;5;124m be one smaller than X(\u001b[39m\u001b[38;5;132;01m{\u001b[39;00mNx\u001b[38;5;132;01m}\u001b[39;00m\u001b[38;5;124m) and Y(\u001b[39m\u001b[38;5;132;01m{\u001b[39;00mNy\u001b[38;5;132;01m}\u001b[39;00m\u001b[38;5;124m)\u001b[39m\u001b[38;5;124m\"\u001b[39m\n\u001b[1;32m   6025\u001b[0m                         \u001b[38;5;124mf\u001b[39m\u001b[38;5;124m\"\u001b[39m\u001b[38;5;124m while using shading=\u001b[39m\u001b[38;5;124m'\u001b[39m\u001b[38;5;124mflat\u001b[39m\u001b[38;5;124m'\u001b[39m\u001b[38;5;124m\"\u001b[39m\n\u001b[1;32m   6026\u001b[0m                         \u001b[38;5;124mf\u001b[39m\u001b[38;5;124m\"\u001b[39m\u001b[38;5;124m see help(\u001b[39m\u001b[38;5;132;01m{\u001b[39;00mfuncname\u001b[38;5;132;01m}\u001b[39;00m\u001b[38;5;124m)\u001b[39m\u001b[38;5;124m\"\u001b[39m)\n\u001b[1;32m   6027\u001b[0m \u001b[38;5;28;01melse\u001b[39;00m:    \u001b[38;5;66;03m# ['nearest', 'gouraud']:\u001b[39;00m\n\u001b[1;32m   6028\u001b[0m     \u001b[38;5;28;01mif\u001b[39;00m (Nx, Ny) \u001b[38;5;241m!=\u001b[39m (ncols, nrows):\n",
      "\u001b[0;31mTypeError\u001b[0m: Dimensions of C (0, 320, 1440) should be one smaller than X(320) and Y(160) while using shading='flat' see help(pcolormesh)"
     ]
    },
    {
     "data": {
      "image/png": "[encoded data removed]",
      "text/plain": [
       "<Figure size 800x400 with 1 Axes>"
      ]
     },
     "metadata": {},
     "output_type": "display_data"
    }
   ],
   "source": [
    "fig = plt.figure(figsize=(8, 4))\n",
    "\n",
    "# use the subsetted longitude, latitude, and SST for plotting\n",
    "plt.pcolormesh(subset_longitude, subset_latitude, subset_SST, vmin=20, vmax=31, cmap='turbo', shading = 'auto')\n",
    "plt.colorbar(orientation='horizontal')\n",
    "\n",
    "# format the axes\n",
    "plt.xlabel('Longitude')\n",
    "plt.ylabel('Latitude')\n",
    "plt.title('Sea Surface Temperature (SST)')\n",
    "\n",
    "plt.show()"
   ]
  },
  {
   "cell_type": "markdown",
   "id": "ca263bf6-2a1a-4616-92ee-722538b98086",
   "metadata": {},
   "source": [
    "## Part 3: Formulate a Plotting Function\n",
    "When you are happy with your plot, make your code into a function that will take the year, month, and day as inputs, and output the figure into a given directory. "
   ]
  },
  {
   "cell_type": "code",
   "execution_count": null,
   "id": "4dad0a02-9c53-4e12-a03c-34a66f4a20c7",
   "metadata": {},
   "outputs": [],
   "source": [
    "file_path = '/Users/shaswatsharma/CS 185C/Homework/homework_3/Frames'\n",
    "def plot_panel(year,month,day):\n",
    "    # fill in your function here\n",
    "    sst_file = os.path.join(data_folder,'Version5','Alpha',\n",
    "                          'latlon_daily','SST',f'SST_{year}'+'{:02d}'.format(month)+'{:02d}'.format(day)+'.nc')\n",
    "    \n",
    "    ds = xr.open_dataset(sst_file, decode_times=False)\n",
    "    longitude = np.array(ds['LONGITUDE_T'][:])\n",
    "    latitude = np.array(ds['LATITUDE_T'][:])\n",
    "    SST = np.array(ds['SST'][:]) \n",
    "\n",
    "    SST = SST[0, :, :]\n",
    "    \n",
    "    ds.close()\n",
    "    \n",
    "    # define the longitude/latitude bounds\n",
    "    min_lon = -155\n",
    "    max_lon = -75\n",
    "    min_lat = -20\n",
    "    max_lat = 20\n",
    "    \n",
    "    # compute the min/max row/col in the data grid\n",
    "    min_col = np.argmin(np.abs(longitude - min_lon))  # closest longitude to -155\n",
    "    max_col = np.argmin(np.abs(longitude - max_lon))  # closest longitude to -75\n",
    "    min_row = np.argmin(np.abs(latitude - min_lat))  # closest latitude to -20\n",
    "    max_row = np.argmin(np.abs(latitude - max_lat))  # closest latitude to 20\n",
    "\n",
    "    subset_longitude = longitude[min_col:max_col]\n",
    "    subset_latitude = latitude[min_row:max_row]\n",
    "    subset_SST = SST[min_row:max_row, min_col:max_col]\n",
    "\n",
    "    fig = plt.figure(figsize=(8, 4))\n",
    "    \n",
    "    # use the subsetted longitude, latitude, and SST for plotting\n",
    "    plt.pcolormesh(subset_longitude, subset_latitude, subset_SST, vmin=20, vmax=31, cmap='turbo', shading = 'auto')\n",
    "    plt.colorbar(orientation='horizontal')\n",
    "    \n",
    "    # format the axes\n",
    "    plt.xlabel('Longitude')\n",
    "    plt.ylabel('Latitude')\n",
    "    plt.title('Sea Surface Temperature (SST)')\n",
    "    \n",
    "    plt.savefig(file_path)\n",
    "    plt.close(fig)\n",
    "    \n"
   ]
  },
  {
   "cell_type": "markdown",
   "id": "d287c1f2-7975-44e6-b50a-e0d3b26ae8b2",
   "metadata": {},
   "source": [
    "Once the function is complete, use it to loop through all of the data to make a plot for each day of the year. The following lines of code will form the panels of a data visualization movie when using daily data. If you are using monthly data, update accordingly:"
   ]
  },
  {
   "cell_type": "code",
   "execution_count": null,
   "id": "bfe71488-7663-4ef6-842b-c9352c3d9b8e",
   "metadata": {},
   "outputs": [],
   "source": [
    "# loop through the data and make a plot for each day\n",
    "year = 2015\n",
    "for month in range(1,13):\n",
    "    if month in [1,3,5,7,8,10,12]:\n",
    "        n_days = 31\n",
    "    elif month in [4,6,9,11]:\n",
    "        n_days = 30\n",
    "    else:\n",
    "        if year%4==0:\n",
    "            n_days = 29\n",
    "        else:\n",
    "            n_days = 28\n",
    "    for day in range(1,n_days+1):\n",
    "        plot_panel(year,month,day)"
   ]
  },
  {
   "cell_type": "markdown",
   "id": "4f53df63-259a-4a66-9541-25e0e752cab4",
   "metadata": {},
   "source": [
    "## Part 4: Compile Panels into a Movie\n",
    "After creating all of the panels, stitch them together into a movie using moviepy:"
   ]
  },
  {
   "cell_type": "code",
   "execution_count": null,
   "id": "2360f110-1117-4828-b2c1-36fb7b60e832",
   "metadata": {},
   "outputs": [],
   "source": [
    "# make a list of files for each movie panel\n",
    "frames_directory = '/Users/shaswatsharma/CS 185C/Homework/homework_3/Frames'\n",
    "file_path = os.path.join(frames_directory,f) for f in os.listdir(output_dir) if f.endswith('.png')]\n",
    "\n",
    "# sort the panels\n",
    "panel_files.sort()"
   ]
  },
  {
   "cell_type": "code",
   "execution_count": null,
   "id": "60725afd-d923-407c-b874-a02e13d73be6",
   "metadata": {},
   "outputs": [],
   "source": [
    "# set the frames per second\n",
    "fps = 5\n",
    "\n",
    "# use the ImageSequenceClip module to set up the clip\n",
    "clip = moviepy.video.io.ImageSequenceClip.ImageSequenceClip(panel_files, fps=fps)\n",
    "\n",
    "# write the video to a file\n",
    "clip.write_videofile('Gulf of Mexico Temperatures.mp4')"
   ]
  },
  {
   "cell_type": "markdown",
   "id": "722d5a44-db51-41d8-acf2-ee97974bb8ba",
   "metadata": {},
   "source": [
    "## Part 5: Interpret Features in the Movie\n",
    "A movie gives a good visualization of the physical processes occurring in a model. Describe one feature you see in the movie and relate it to an oceanographic feature. It could be a feature discussed in class or another feature you noticed and researched on your own.\n",
    "\n",
    "Answer: *Enter your description here*"
   ]
  }
 ],
 "metadata": {
  "kernelspec": {
   "display_name": "cs185c",
   "language": "python",
   "name": "cs185c"
  },
  "language_info": {
   "codemirror_mode": {
    "name": "ipython",
    "version": 3
   },
   "file_extension": ".py",
   "mimetype": "text/x-python",
   "name": "python",
   "nbconvert_exporter": "python",
   "pygments_lexer": "ipython3",
   "version": "3.11.11"
  }
 },
 "nbformat": 4,
 "nbformat_minor": 5
}
